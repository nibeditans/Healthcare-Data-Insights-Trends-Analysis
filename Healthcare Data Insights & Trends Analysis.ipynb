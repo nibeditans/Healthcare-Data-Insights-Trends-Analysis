{
 "cells": [
  {
   "cell_type": "markdown",
   "id": "5c735729",
   "metadata": {},
   "source": [
    "<h1 style=\"color:green;\">Healthcare Data Insights & Trends Analysis</h1>"
   ]
  },
  {
   "cell_type": "markdown",
   "id": "213e02fd",
   "metadata": {},
   "source": [
    "<h2 style=\"color:green;\">Data Loading & Initial Exploration</h2>"
   ]
  },
  {
   "cell_type": "markdown",
   "id": "aa502cc6",
   "metadata": {},
   "source": [
    "<b style=\"color:blue;\">Loading the dataset</b>"
   ]
  },
  {
   "cell_type": "code",
   "execution_count": 1,
   "id": "bca6e613",
   "metadata": {},
   "outputs": [],
   "source": [
    "import numpy as np\n",
    "import pandas as pd\n",
    "import matplotlib.pyplot as plt\n",
    "import seaborn as sns\n",
    "\n",
    "import warnings\n",
    "warnings.filterwarnings(\"ignore\")"
   ]
  },
  {
   "cell_type": "code",
   "execution_count": 2,
   "id": "35fc3383",
   "metadata": {},
   "outputs": [
    {
     "data": {
      "text/html": [
       "<div>\n",
       "<style scoped>\n",
       "    .dataframe tbody tr th:only-of-type {\n",
       "        vertical-align: middle;\n",
       "    }\n",
       "\n",
       "    .dataframe tbody tr th {\n",
       "        vertical-align: top;\n",
       "    }\n",
       "\n",
       "    .dataframe thead th {\n",
       "        text-align: right;\n",
       "    }\n",
       "</style>\n",
       "<table border=\"1\" class=\"dataframe\">\n",
       "  <thead>\n",
       "    <tr style=\"text-align: right;\">\n",
       "      <th></th>\n",
       "      <th>Name</th>\n",
       "      <th>Age</th>\n",
       "      <th>Gender</th>\n",
       "      <th>Blood Type</th>\n",
       "      <th>Medical Condition</th>\n",
       "      <th>Date of Admission</th>\n",
       "      <th>Doctor</th>\n",
       "      <th>Hospital</th>\n",
       "      <th>Insurance Provider</th>\n",
       "      <th>Billing Amount</th>\n",
       "      <th>Room Number</th>\n",
       "      <th>Admission Type</th>\n",
       "      <th>Discharge Date</th>\n",
       "      <th>Medication</th>\n",
       "      <th>Test Results</th>\n",
       "    </tr>\n",
       "  </thead>\n",
       "  <tbody>\n",
       "    <tr>\n",
       "      <th>0</th>\n",
       "      <td>Bobby JacksOn</td>\n",
       "      <td>30</td>\n",
       "      <td>Male</td>\n",
       "      <td>B-</td>\n",
       "      <td>Cancer</td>\n",
       "      <td>31-01-2024</td>\n",
       "      <td>Matthew Smith</td>\n",
       "      <td>Sons and Miller</td>\n",
       "      <td>Blue Cross</td>\n",
       "      <td>18856.28</td>\n",
       "      <td>328</td>\n",
       "      <td>Urgent</td>\n",
       "      <td>02-02-2024</td>\n",
       "      <td>Paracetamol</td>\n",
       "      <td>Normal</td>\n",
       "    </tr>\n",
       "    <tr>\n",
       "      <th>1</th>\n",
       "      <td>LesLie TErRy</td>\n",
       "      <td>62</td>\n",
       "      <td>Male</td>\n",
       "      <td>A+</td>\n",
       "      <td>Obesity</td>\n",
       "      <td>20-08-2019</td>\n",
       "      <td>Samantha Davies</td>\n",
       "      <td>Kim Inc</td>\n",
       "      <td>Medicare</td>\n",
       "      <td>33643.33</td>\n",
       "      <td>265</td>\n",
       "      <td>Emergency</td>\n",
       "      <td>26-08-2019</td>\n",
       "      <td>Ibuprofen</td>\n",
       "      <td>Inconclusive</td>\n",
       "    </tr>\n",
       "    <tr>\n",
       "      <th>2</th>\n",
       "      <td>DaNnY sMitH</td>\n",
       "      <td>76</td>\n",
       "      <td>Female</td>\n",
       "      <td>A-</td>\n",
       "      <td>Obesity</td>\n",
       "      <td>22-09-2022</td>\n",
       "      <td>Tiffany Mitchell</td>\n",
       "      <td>Cook PLC</td>\n",
       "      <td>Aetna</td>\n",
       "      <td>27955.10</td>\n",
       "      <td>205</td>\n",
       "      <td>Emergency</td>\n",
       "      <td>07-10-2022</td>\n",
       "      <td>Aspirin</td>\n",
       "      <td>Normal</td>\n",
       "    </tr>\n",
       "    <tr>\n",
       "      <th>3</th>\n",
       "      <td>andrEw waTtS</td>\n",
       "      <td>28</td>\n",
       "      <td>Female</td>\n",
       "      <td>O+</td>\n",
       "      <td>Diabetes</td>\n",
       "      <td>18-11-2020</td>\n",
       "      <td>Kevin Wells</td>\n",
       "      <td>Hernandez Rogers and Vang,</td>\n",
       "      <td>Medicare</td>\n",
       "      <td>37909.78</td>\n",
       "      <td>450</td>\n",
       "      <td>Elective</td>\n",
       "      <td>18-12-2020</td>\n",
       "      <td>Ibuprofen</td>\n",
       "      <td>Abnormal</td>\n",
       "    </tr>\n",
       "    <tr>\n",
       "      <th>4</th>\n",
       "      <td>adrIENNE bEll</td>\n",
       "      <td>43</td>\n",
       "      <td>Female</td>\n",
       "      <td>AB+</td>\n",
       "      <td>Cancer</td>\n",
       "      <td>19-09-2022</td>\n",
       "      <td>Kathleen Hanna</td>\n",
       "      <td>White-White</td>\n",
       "      <td>Aetna</td>\n",
       "      <td>14238.32</td>\n",
       "      <td>458</td>\n",
       "      <td>Urgent</td>\n",
       "      <td>09-10-2022</td>\n",
       "      <td>Penicillin</td>\n",
       "      <td>Abnormal</td>\n",
       "    </tr>\n",
       "  </tbody>\n",
       "</table>\n",
       "</div>"
      ],
      "text/plain": [
       "            Name  Age  Gender Blood Type Medical Condition Date of Admission  \\\n",
       "0  Bobby JacksOn   30    Male         B-            Cancer        31-01-2024   \n",
       "1   LesLie TErRy   62    Male         A+           Obesity        20-08-2019   \n",
       "2    DaNnY sMitH   76  Female         A-           Obesity        22-09-2022   \n",
       "3   andrEw waTtS   28  Female         O+          Diabetes        18-11-2020   \n",
       "4  adrIENNE bEll   43  Female        AB+            Cancer        19-09-2022   \n",
       "\n",
       "             Doctor                    Hospital Insurance Provider  \\\n",
       "0     Matthew Smith             Sons and Miller         Blue Cross   \n",
       "1   Samantha Davies                     Kim Inc           Medicare   \n",
       "2  Tiffany Mitchell                    Cook PLC              Aetna   \n",
       "3       Kevin Wells  Hernandez Rogers and Vang,           Medicare   \n",
       "4    Kathleen Hanna                 White-White              Aetna   \n",
       "\n",
       "   Billing Amount  Room Number Admission Type Discharge Date   Medication  \\\n",
       "0        18856.28          328         Urgent     02-02-2024  Paracetamol   \n",
       "1        33643.33          265      Emergency     26-08-2019    Ibuprofen   \n",
       "2        27955.10          205      Emergency     07-10-2022      Aspirin   \n",
       "3        37909.78          450       Elective     18-12-2020    Ibuprofen   \n",
       "4        14238.32          458         Urgent     09-10-2022   Penicillin   \n",
       "\n",
       "   Test Results  \n",
       "0        Normal  \n",
       "1  Inconclusive  \n",
       "2        Normal  \n",
       "3      Abnormal  \n",
       "4      Abnormal  "
      ]
     },
     "execution_count": 2,
     "metadata": {},
     "output_type": "execute_result"
    }
   ],
   "source": [
    "df = pd.read_csv(\"healthcare_dataset.csv\")\n",
    "df.head()"
   ]
  },
  {
   "cell_type": "markdown",
   "id": "6ef1868b",
   "metadata": {},
   "source": [
    "<b style=\"color:blue;\">Checking the shape and Column details</b>"
   ]
  },
  {
   "cell_type": "code",
   "execution_count": 3,
   "id": "3d3f2e14",
   "metadata": {},
   "outputs": [
    {
     "data": {
      "text/plain": [
       "(55500, 15)"
      ]
     },
     "execution_count": 3,
     "metadata": {},
     "output_type": "execute_result"
    }
   ],
   "source": [
    "df.shape"
   ]
  },
  {
   "cell_type": "code",
   "execution_count": 4,
   "id": "d377a005",
   "metadata": {},
   "outputs": [
    {
     "data": {
      "text/plain": [
       "Index(['Name', 'Age', 'Gender', 'Blood Type', 'Medical Condition',\n",
       "       'Date of Admission', 'Doctor', 'Hospital', 'Insurance Provider',\n",
       "       'Billing Amount', 'Room Number', 'Admission Type', 'Discharge Date',\n",
       "       'Medication', 'Test Results'],\n",
       "      dtype='object')"
      ]
     },
     "execution_count": 4,
     "metadata": {},
     "output_type": "execute_result"
    }
   ],
   "source": [
    "df.columns"
   ]
  },
  {
   "cell_type": "code",
   "execution_count": 5,
   "id": "ed75c1a2",
   "metadata": {},
   "outputs": [
    {
     "name": "stdout",
     "output_type": "stream",
     "text": [
      "<class 'pandas.core.frame.DataFrame'>\n",
      "RangeIndex: 55500 entries, 0 to 55499\n",
      "Data columns (total 15 columns):\n",
      " #   Column              Non-Null Count  Dtype  \n",
      "---  ------              --------------  -----  \n",
      " 0   Name                55500 non-null  object \n",
      " 1   Age                 55500 non-null  int64  \n",
      " 2   Gender              55500 non-null  object \n",
      " 3   Blood Type          55500 non-null  object \n",
      " 4   Medical Condition   55500 non-null  object \n",
      " 5   Date of Admission   55500 non-null  object \n",
      " 6   Doctor              55500 non-null  object \n",
      " 7   Hospital            55500 non-null  object \n",
      " 8   Insurance Provider  55500 non-null  object \n",
      " 9   Billing Amount      55500 non-null  float64\n",
      " 10  Room Number         55500 non-null  int64  \n",
      " 11  Admission Type      55500 non-null  object \n",
      " 12  Discharge Date      55500 non-null  object \n",
      " 13  Medication          55500 non-null  object \n",
      " 14  Test Results        55500 non-null  object \n",
      "dtypes: float64(1), int64(2), object(12)\n",
      "memory usage: 6.4+ MB\n"
     ]
    }
   ],
   "source": [
    "df.info()"
   ]
  },
  {
   "cell_type": "code",
   "execution_count": 6,
   "id": "35933d5c",
   "metadata": {},
   "outputs": [
    {
     "data": {
      "text/plain": [
       "Name                  49992\n",
       "Age                      77\n",
       "Gender                    2\n",
       "Blood Type                8\n",
       "Medical Condition         6\n",
       "Date of Admission      1827\n",
       "Doctor                40341\n",
       "Hospital              39876\n",
       "Insurance Provider        5\n",
       "Billing Amount        49760\n",
       "Room Number             400\n",
       "Admission Type            3\n",
       "Discharge Date         1856\n",
       "Medication                5\n",
       "Test Results              3\n",
       "dtype: int64"
      ]
     },
     "execution_count": 6,
     "metadata": {},
     "output_type": "execute_result"
    }
   ],
   "source": [
    "df.nunique()"
   ]
  },
  {
   "cell_type": "code",
   "execution_count": 7,
   "id": "6819872e",
   "metadata": {},
   "outputs": [
    {
     "data": {
      "text/html": [
       "<div>\n",
       "<style scoped>\n",
       "    .dataframe tbody tr th:only-of-type {\n",
       "        vertical-align: middle;\n",
       "    }\n",
       "\n",
       "    .dataframe tbody tr th {\n",
       "        vertical-align: top;\n",
       "    }\n",
       "\n",
       "    .dataframe thead th {\n",
       "        text-align: right;\n",
       "    }\n",
       "</style>\n",
       "<table border=\"1\" class=\"dataframe\">\n",
       "  <thead>\n",
       "    <tr style=\"text-align: right;\">\n",
       "      <th></th>\n",
       "      <th>Age</th>\n",
       "      <th>Billing Amount</th>\n",
       "      <th>Room Number</th>\n",
       "    </tr>\n",
       "  </thead>\n",
       "  <tbody>\n",
       "    <tr>\n",
       "      <th>count</th>\n",
       "      <td>55500.000000</td>\n",
       "      <td>55500.000000</td>\n",
       "      <td>55500.000000</td>\n",
       "    </tr>\n",
       "    <tr>\n",
       "      <th>mean</th>\n",
       "      <td>51.539459</td>\n",
       "      <td>25539.316071</td>\n",
       "      <td>301.134829</td>\n",
       "    </tr>\n",
       "    <tr>\n",
       "      <th>std</th>\n",
       "      <td>19.602454</td>\n",
       "      <td>14211.454434</td>\n",
       "      <td>115.243069</td>\n",
       "    </tr>\n",
       "    <tr>\n",
       "      <th>min</th>\n",
       "      <td>13.000000</td>\n",
       "      <td>-2008.490000</td>\n",
       "      <td>101.000000</td>\n",
       "    </tr>\n",
       "    <tr>\n",
       "      <th>25%</th>\n",
       "      <td>35.000000</td>\n",
       "      <td>13241.222500</td>\n",
       "      <td>202.000000</td>\n",
       "    </tr>\n",
       "    <tr>\n",
       "      <th>50%</th>\n",
       "      <td>52.000000</td>\n",
       "      <td>25538.065000</td>\n",
       "      <td>302.000000</td>\n",
       "    </tr>\n",
       "    <tr>\n",
       "      <th>75%</th>\n",
       "      <td>68.000000</td>\n",
       "      <td>37820.510000</td>\n",
       "      <td>401.000000</td>\n",
       "    </tr>\n",
       "    <tr>\n",
       "      <th>max</th>\n",
       "      <td>89.000000</td>\n",
       "      <td>52764.280000</td>\n",
       "      <td>500.000000</td>\n",
       "    </tr>\n",
       "  </tbody>\n",
       "</table>\n",
       "</div>"
      ],
      "text/plain": [
       "                Age  Billing Amount   Room Number\n",
       "count  55500.000000    55500.000000  55500.000000\n",
       "mean      51.539459    25539.316071    301.134829\n",
       "std       19.602454    14211.454434    115.243069\n",
       "min       13.000000    -2008.490000    101.000000\n",
       "25%       35.000000    13241.222500    202.000000\n",
       "50%       52.000000    25538.065000    302.000000\n",
       "75%       68.000000    37820.510000    401.000000\n",
       "max       89.000000    52764.280000    500.000000"
      ]
     },
     "execution_count": 7,
     "metadata": {},
     "output_type": "execute_result"
    }
   ],
   "source": [
    "df.describe()"
   ]
  },
  {
   "cell_type": "markdown",
   "id": "2fe31c29",
   "metadata": {},
   "source": [
    "<h2 style=\"color:green;\">Data Cleaning & Formatting</h2>"
   ]
  },
  {
   "cell_type": "markdown",
   "id": "5207c5d5",
   "metadata": {},
   "source": [
    "<b style=\"color:blue;\">Checking for Duplicates</b>"
   ]
  },
  {
   "cell_type": "code",
   "execution_count": 8,
   "id": "272edbb4",
   "metadata": {},
   "outputs": [
    {
     "name": "stdout",
     "output_type": "stream",
     "text": [
      "Number of duplicate rows: 534\n"
     ]
    }
   ],
   "source": [
    "duplicate_rows = df.duplicated().sum()\n",
    "print(f\"Number of duplicate rows: {duplicate_rows}\")"
   ]
  },
  {
   "cell_type": "markdown",
   "id": "339c2493",
   "metadata": {},
   "source": [
    "<b style=\"color:blue;\">Removing Duplicate Rows</b>"
   ]
  },
  {
   "cell_type": "code",
   "execution_count": 9,
   "id": "2808a74c",
   "metadata": {},
   "outputs": [
    {
     "data": {
      "text/plain": [
       "(54966, 15)"
      ]
     },
     "execution_count": 9,
     "metadata": {},
     "output_type": "execute_result"
    }
   ],
   "source": [
    "df.drop_duplicates(inplace=True)\n",
    "df.shape"
   ]
  },
  {
   "cell_type": "markdown",
   "id": "d22df9c5",
   "metadata": {},
   "source": [
    "<p style=\"color:purple;\">We had \n",
    "    <b style=\"color:red;\">534</b> duplicate records which have now been removed. This ensures the accuracy of our analysis by preventing skewed results.</p>"
   ]
  },
  {
   "cell_type": "markdown",
   "id": "506c5046",
   "metadata": {},
   "source": [
    "<b style=\"color:blue;\">Converting Date Columns to Datetime Format</b>"
   ]
  },
  {
   "cell_type": "code",
   "execution_count": 10,
   "id": "69f86834",
   "metadata": {},
   "outputs": [],
   "source": [
    "df[\"Date of Admission\"] = pd.to_datetime(df[\"Date of Admission\"], format=\"%d-%m-%Y\")\n",
    "df[\"Discharge Date\"] = pd.to_datetime(df[\"Discharge Date\"], format=\"%d-%m-%Y\")"
   ]
  },
  {
   "cell_type": "markdown",
   "id": "f1afbe75",
   "metadata": {},
   "source": [
    "<p style=\"color:purple;\">Both \n",
    "    <b style=\"color:green;\n",
    "              background-color:yellow;\">Date of Admission</b> and \n",
    "    <b style=\"color:green;\n",
    "              background-color:yellow;\">Discharge Date</b> are now in datetime format. This allows us to perform time-based operations and extract insights like admission trends over time.</p>"
   ]
  },
  {
   "cell_type": "markdown",
   "id": "9b883399",
   "metadata": {},
   "source": [
    "<b style=\"color:blue;\">Extracting Time Features</b>"
   ]
  },
  {
   "cell_type": "code",
   "execution_count": 11,
   "id": "4e1076f4",
   "metadata": {},
   "outputs": [],
   "source": [
    "df[\"Admission Year\"] = df[\"Date of Admission\"].dt.year\n",
    "df[\"Admission Month\"] = df[\"Date of Admission\"].dt.month\n",
    "df[\"Discharge Year\"] = df[\"Discharge Date\"].dt.year"
   ]
  },
  {
   "cell_type": "markdown",
   "id": "1da2d152",
   "metadata": {},
   "source": [
    "<p style=\"color:purple;\">We’ve extracted the year and month of admission and discharge. These will be useful later for time series analysis or trend visualizations.</p>"
   ]
  },
  {
   "cell_type": "markdown",
   "id": "34e0a053",
   "metadata": {},
   "source": [
    "<b style=\"color:blue;\">Final Check on Data Types</b>"
   ]
  },
  {
   "cell_type": "code",
   "execution_count": 12,
   "id": "644a7957",
   "metadata": {},
   "outputs": [
    {
     "name": "stdout",
     "output_type": "stream",
     "text": [
      "<class 'pandas.core.frame.DataFrame'>\n",
      "Index: 54966 entries, 0 to 55499\n",
      "Data columns (total 18 columns):\n",
      " #   Column              Non-Null Count  Dtype         \n",
      "---  ------              --------------  -----         \n",
      " 0   Name                54966 non-null  object        \n",
      " 1   Age                 54966 non-null  int64         \n",
      " 2   Gender              54966 non-null  object        \n",
      " 3   Blood Type          54966 non-null  object        \n",
      " 4   Medical Condition   54966 non-null  object        \n",
      " 5   Date of Admission   54966 non-null  datetime64[ns]\n",
      " 6   Doctor              54966 non-null  object        \n",
      " 7   Hospital            54966 non-null  object        \n",
      " 8   Insurance Provider  54966 non-null  object        \n",
      " 9   Billing Amount      54966 non-null  float64       \n",
      " 10  Room Number         54966 non-null  int64         \n",
      " 11  Admission Type      54966 non-null  object        \n",
      " 12  Discharge Date      54966 non-null  datetime64[ns]\n",
      " 13  Medication          54966 non-null  object        \n",
      " 14  Test Results        54966 non-null  object        \n",
      " 15  Admission Year      54966 non-null  int32         \n",
      " 16  Admission Month     54966 non-null  int32         \n",
      " 17  Discharge Year      54966 non-null  int32         \n",
      "dtypes: datetime64[ns](2), float64(1), int32(3), int64(2), object(10)\n",
      "memory usage: 7.3+ MB\n"
     ]
    }
   ],
   "source": [
    "df.info()"
   ]
  },
  {
   "cell_type": "markdown",
   "id": "562b2b3b",
   "metadata": {},
   "source": [
    "<h2 style=\"color:green;\">Univariate Analysis (Variable-wise Exploration)</h2>"
   ]
  },
  {
   "cell_type": "markdown",
   "id": "6a537951",
   "metadata": {},
   "source": [
    "<p style=\"color:purple;\">In Univariate Analysis, we’ll explore each column individually to:</p>\n",
    "\n",
    "- <p style=\"color:purple;\">Understand the distribution</p>\n",
    "- <p style=\"color:purple;\">Detect outliers</p>\n",
    "- <p style=\"color:purple;\">Spot skews or imbalances</p>\n",
    "- <p style=\"color:purple;\">Know how each variable behaves in isolation</p>"
   ]
  },
  {
   "cell_type": "markdown",
   "id": "5a5620b9",
   "metadata": {},
   "source": [
    "### `Age` (Numerical Feature)"
   ]
  },
  {
   "cell_type": "markdown",
   "id": "87d01c08",
   "metadata": {},
   "source": [
    "<b style=\"color:blue;\">Summary Statistics</b>"
   ]
  },
  {
   "cell_type": "code",
   "execution_count": 13,
   "id": "b2a78ca1",
   "metadata": {},
   "outputs": [
    {
     "data": {
      "text/plain": [
       "count    54966.000000\n",
       "mean        51.535185\n",
       "std         19.605661\n",
       "min         13.000000\n",
       "25%         35.000000\n",
       "50%         52.000000\n",
       "75%         68.000000\n",
       "max         89.000000\n",
       "Name: Age, dtype: float64"
      ]
     },
     "execution_count": 13,
     "metadata": {},
     "output_type": "execute_result"
    }
   ],
   "source": [
    "df[\"Age\"].describe()"
   ]
  },
  {
   "cell_type": "markdown",
   "id": "d9d17829",
   "metadata": {},
   "source": [
    "<b style=\"color:blue;\">Distribution Plot</b>"
   ]
  },
  {
   "cell_type": "code",
   "execution_count": 14,
   "id": "db5004e0",
   "metadata": {},
   "outputs": [
    {
     "data": {
      "image/png": "[encoded data removed]",
      "text/plain": [
       "<Figure size 800x400 with 1 Axes>"
      ]
     },
     "metadata": {},
     "output_type": "display_data"
    }
   ],
   "source": [
    "plt.figure(figsize=(8, 4))\n",
    "sns.histplot(df[\"Age\"], bins=30, kde=True, color='g')\n",
    "plt.title(\"Distribution of Patient Age\")\n",
    "plt.show()"
   ]
  },
  {
   "cell_type": "markdown",
   "id": "38b21751",
   "metadata": {},
   "source": [
    "<b style=\"color:blue;\">Age Distribution</b>\n",
    "\n",
    "- <p style=\"color:purple;\">Most patients are between \n",
    "    <b style=\"color:green; background-color:yellow;\">35 to 68</b> years old. as indicated by the interquartile range (25th to 75th percentile).</p>\n",
    "- <p style=\"color:purple;\">The age distribution is \n",
    "    <b style=\"color:green; \n",
    "              background-color:yellow;\">slightly right-skewed</b>, with a median age of 52 years and a mean of 51.5 years. The distribution peaks around the early 50s, reflecting the median.</p>\n",
    "- <p style=\"color:purple;\">This summary helps us understand that the majority of patients are middle-aged to older adults, and it can also highlight unusual entries, such as those below \n",
    "    <b style=\"color:green; background-color:yellow;\">13 or above 89</b> years, which are outside the observed range.</p>"
   ]
  },
  {
   "cell_type": "markdown",
   "id": "17346106",
   "metadata": {},
   "source": [
    "### `Billing Amount`  (Numerical Feature)"
   ]
  },
  {
   "cell_type": "markdown",
   "id": "786ab842",
   "metadata": {},
   "source": [
    "<b style=\"color:blue;\">Summary Statistics</b>"
   ]
  },
  {
   "cell_type": "code",
   "execution_count": 15,
   "id": "798985ec",
   "metadata": {},
   "outputs": [
    {
     "data": {
      "text/plain": [
       "count    54966.00\n",
       "mean     25544.31\n",
       "std      14208.41\n",
       "min      -2008.49\n",
       "25%      13243.72\n",
       "50%      25542.75\n",
       "75%      37819.86\n",
       "max      52764.28\n",
       "Name: Billing Amount, dtype: float64"
      ]
     },
     "execution_count": 15,
     "metadata": {},
     "output_type": "execute_result"
    }
   ],
   "source": [
    "df[\"Billing Amount\"].describe().round(2)"
   ]
  },
  {
   "cell_type": "markdown",
   "id": "f1b1896a",
   "metadata": {},
   "source": [
    "<b style=\"color:blue;\">Distribution Plot</b>"
   ]
  },
  {
   "cell_type": "code",
   "execution_count": 16,
   "id": "886d2ec4",
   "metadata": {},
   "outputs": [
    {
     "data": {
      "image/png": "[encoded data removed]",
      "text/plain": [
       "<Figure size 800x400 with 1 Axes>"
      ]
     },
     "metadata": {},
     "output_type": "display_data"
    }
   ],
   "source": [
    "plt.figure(figsize=(8, 4))\n",
    "sns.histplot(df[\"Billing Amount\"], bins=40, kde=True, color='m')\n",
    "plt.title(\"Distribution of Billing Amounts\")\n",
    "plt.show()"
   ]
  },
  {
   "cell_type": "markdown",
   "id": "752286f1",
   "metadata": {},
   "source": [
    "<b style=\"color:blue;\">Billing Amount Distribution</b>\n",
    "\n",
    "- <p style=\"color:purple;\">The average billing amount is around \n",
    "    <b style=\"color:red;\">\\$25544.31</b> with a max of \n",
    "    <b style=\"color:red;\">\\$52764.28</b>.</p>\n",
    "- <p style=\"color:purple;\">The data appears to be fairly uniform across the range, as seen in the histogram, with no strong skewness. However, there are a few negative and extremely high values, which may be outliers.</p>"
   ]
  },
  {
   "cell_type": "markdown",
   "id": "69ab47ee",
   "metadata": {},
   "source": [
    "### `Gender` and `Blood Type` (Categorical Features)"
   ]
  },
  {
   "cell_type": "markdown",
   "id": "2e700448",
   "metadata": {},
   "source": [
    "<b style=\"color:blue;\">Gender</b>"
   ]
  },
  {
   "cell_type": "code",
   "execution_count": 26,
   "id": "778cbbb0",
   "metadata": {},
   "outputs": [
    {
     "data": {
      "image/png": "[encoded data removed]",
      "text/plain": [
       "<Figure size 800x400 with 1 Axes>"
      ]
     },
     "metadata": {},
     "output_type": "display_data"
    }
   ],
   "source": [
    "plt.figure(figsize=(8, 4))\n",
    "sns.countplot(data=df, x=\"Gender\", palette=[\"green\", \"yellow\"])\n",
    "plt.title(\"Gender Distribution\")\n",
    "plt.show()"
   ]
  },
  {
   "cell_type": "markdown",
   "id": "7e3e16b1",
   "metadata": {},
   "source": [
    "<b style=\"color:blue;\">Blood Type</b>"
   ]
  },
  {
   "cell_type": "code",
   "execution_count": 17,
   "id": "1294ae11",
   "metadata": {},
   "outputs": [
    {
     "data": {
      "image/png": "[encoded data removed]",
      "text/plain": [
       "<Figure size 600x400 with 1 Axes>"
      ]
     },
     "metadata": {},
     "output_type": "display_data"
    }
   ],
   "source": [
    "plt.figure(figsize=(6, 4))\n",
    "sns.countplot(data=df, x=\"Blood Type\", \n",
    "              order=df[\"Blood Type\"].value_counts().index, \n",
    "              palette=\"gist_earth\")\n",
    "plt.title(\"Blood Type Distribution\")\n",
    "plt.show()"
   ]
  },
  {
   "cell_type": "markdown",
   "id": "23781e90",
   "metadata": {},
   "source": [
    "<b style=\"color:blue;\">Gender Distribution</b>\n",
    "\n",
    "- <p style=\"color:purple;\">The gender split is almost equal, with \n",
    "    <b style=\"color:red;\">27774</b> males and \n",
    "    <b style=\"color:red;\">27726</b> females.</p>\n",
    "- <p style=\"color:purple;\">While this balance is ideal from an analysis standpoint, it doesn't reveal any standout insight or imbalance.</p>\n",
    "\n",
    "<b style=\"color:blue;\">Blood Type Distribution</b>\n",
    "\n",
    "- <p style=\"color:purple;\">Blood types are nearly evenly distributed across all categories.</p>\n",
    "- <p style=\"color:purple;\">This uniformity is not reflective of real-world population distributions and likely indicates synthetic or anonymized data.</p>\n",
    "- <p style=\"color:purple;\">We found no significant trends or anomalies in this feature.</p>"
   ]
  },
  {
   "cell_type": "markdown",
   "id": "8c4a833b",
   "metadata": {},
   "source": [
    "### High Cardinality Categorical Columns"
   ]
  },
  {
   "cell_type": "markdown",
   "id": "ae6a05d7",
   "metadata": {},
   "source": [
    "<b style=\"color:blue;\">Top 5 most frequent Doctors</b>"
   ]
  },
  {
   "cell_type": "code",
   "execution_count": 21,
   "id": "64ee8951",
   "metadata": {},
   "outputs": [
    {
     "data": {
      "image/png": "[encoded data removed]",
      "text/plain": [
       "<Figure size 1000x400 with 1 Axes>"
      ]
     },
     "metadata": {},
     "output_type": "display_data"
    }
   ],
   "source": [
    "top_doctors = df[\"Doctor\"].value_counts().head()\n",
    "\n",
    "plt.figure(figsize=(10, 4))\n",
    "sns.barplot(x=top_doctors.values, y=top_doctors.index, palette=\"viridis_r\")\n",
    "\n",
    "plt.title(\"Top 5 most frequent Doctors\")\n",
    "plt.xlabel(\"Number of Patients\")\n",
    "plt.ylabel(\"Doctor\")\n",
    "\n",
    "for index, value in enumerate(top_doctors.values):\n",
    "    plt.text(value, index, str(value), va=\"center\")\n",
    "\n",
    "plt.show()"
   ]
  },
  {
   "cell_type": "markdown",
   "id": "9d82fe16",
   "metadata": {},
   "source": [
    "<b style=\"color:blue;\">Top 5 most admitted Hostpitals</b>"
   ]
  },
  {
   "cell_type": "code",
   "execution_count": 23,
   "id": "396789f1",
   "metadata": {},
   "outputs": [
    {
     "data": {
      "image/png": "[encoded data removed]",
      "text/plain": [
       "<Figure size 1000x400 with 1 Axes>"
      ]
     },
     "metadata": {},
     "output_type": "display_data"
    }
   ],
   "source": [
    "top_hospitals = df[\"Hospital\"].value_counts().head()\n",
    "\n",
    "plt.figure(figsize=(10, 4))\n",
    "sns.barplot(x=top_hospitals.values, y=top_hospitals.index, palette=\"viridis_r\")\n",
    "\n",
    "plt.title(\"Top 5 most admitted Hospitals\")\n",
    "plt.xlabel(\"Number of Admissions\")\n",
    "plt.ylabel(\"Hospital\")\n",
    "\n",
    "for index, value in enumerate(top_hospitals.values):\n",
    "    plt.text(value, index, str(value), va=\"center\")\n",
    "\n",
    "plt.show()"
   ]
  },
  {
   "cell_type": "markdown",
   "id": "8281965a",
   "metadata": {},
   "source": [
    "<b style=\"color:blue;\">Features with no significant trends or anomalies.</b>"
   ]
  },
  {
   "cell_type": "code",
   "execution_count": 28,
   "id": "763411fa",
   "metadata": {},
   "outputs": [
    {
     "data": {
      "text/plain": [
       "Medical Condition\n",
       "Arthritis       9218\n",
       "Diabetes        9216\n",
       "Hypertension    9151\n",
       "Obesity         9146\n",
       "Cancer          9140\n",
       "Asthma          9095\n",
       "Name: count, dtype: int64"
      ]
     },
     "execution_count": 28,
     "metadata": {},
     "output_type": "execute_result"
    }
   ],
   "source": [
    "df[\"Medical Condition\"].value_counts()"
   ]
  },
  {
   "cell_type": "code",
   "execution_count": 29,
   "id": "95cd766a",
   "metadata": {},
   "outputs": [
    {
     "data": {
      "text/plain": [
       "Insurance Provider\n",
       "Cigna               11139\n",
       "Medicare            11039\n",
       "UnitedHealthcare    11014\n",
       "Blue Cross          10952\n",
       "Aetna               10822\n",
       "Name: count, dtype: int64"
      ]
     },
     "execution_count": 29,
     "metadata": {},
     "output_type": "execute_result"
    }
   ],
   "source": [
    "df[\"Insurance Provider\"].value_counts()"
   ]
  },
  {
   "cell_type": "code",
   "execution_count": 30,
   "id": "9e6a61f7",
   "metadata": {},
   "outputs": [
    {
     "data": {
      "text/plain": [
       "Medication\n",
       "Lipitor        11038\n",
       "Ibuprofen      11023\n",
       "Aspirin        10984\n",
       "Paracetamol    10965\n",
       "Penicillin     10956\n",
       "Name: count, dtype: int64"
      ]
     },
     "execution_count": 30,
     "metadata": {},
     "output_type": "execute_result"
    }
   ],
   "source": [
    "df[\"Medication\"].value_counts()"
   ]
  },
  {
   "cell_type": "markdown",
   "id": "3d5e224c",
   "metadata": {},
   "source": [
    "<h2 style=\"color:green;\">Time-Based Trends</h2>"
   ]
  },
  {
   "cell_type": "markdown",
   "id": "06a17ef1",
   "metadata": {},
   "source": [
    "<b style=\"color:blue;\">Number of Admissions Per Year</b>"
   ]
  },
  {
   "cell_type": "code",
   "execution_count": 34,
   "id": "c7ae7078",
   "metadata": {},
   "outputs": [
    {
     "data": {
      "text/plain": [
       "Admission Year\n",
       "2019     7300\n",
       "2020    11172\n",
       "2021    10816\n",
       "2022    10915\n",
       "2023    10936\n",
       "2024     3827\n",
       "Name: count, dtype: int64"
      ]
     },
     "execution_count": 34,
     "metadata": {},
     "output_type": "execute_result"
    }
   ],
   "source": [
    "admissions_per_year = df[\"Admission Year\"].value_counts().sort_index()\n",
    "admissions_per_year"
   ]
  },
  {
   "cell_type": "code",
   "execution_count": 38,
   "id": "9742d0f8",
   "metadata": {},
   "outputs": [
    {
     "data": {
      "image/png": "[encoded data removed]",
      "text/plain": [
       "<Figure size 1000x500 with 1 Axes>"
      ]
     },
     "metadata": {},
     "output_type": "display_data"
    }
   ],
   "source": [
    "plt.figure(figsize=(10, 5))\n",
    "sns.lineplot(x=admissions_per_year.index, \n",
    "             y=admissions_per_year.values, \n",
    "             marker=\"o\", \n",
    "             color=\"g\")\n",
    "\n",
    "plt.title(\"Number of Admissions Per Year\")\n",
    "plt.xlabel(\"Year\")\n",
    "plt.ylabel(\"Number of Admissions\")\n",
    "\n",
    "for x, y in zip(admissions_per_year.index, admissions_per_year.values):\n",
    "    plt.text(x, y, str(y), ha=\"center\", va=\"bottom\")\n",
    "\n",
    "plt.show()"
   ]
  },
  {
   "cell_type": "markdown",
   "id": "5006d3be",
   "metadata": {},
   "source": [
    "<p style=\"color:purple;\">The number of hospital admissions shows a noticeable \n",
    "    <b style=\"color:green; \n",
    "              background-color:yellow;\">increase starting from 2019 (7,300)</b>, peaking around \n",
    "    <b style=\"color:green; \n",
    "              background-color:yellow;\">2020 to 2023</b> with each year recording over \n",
    "    <b style=\"color:green; \n",
    "              background-color:yellow;\">10,000 admissions</b>. The year 2024, however, shows significantly fewer admissions (3,826), likely due to incomplete data, as the year may not be fully recorded yet. This upward trend from \n",
    "    <b style=\"color:green; \n",
    "              background-color:yellow;\">2019 to 2023</b> could reflect:</p>\n",
    "              \n",
    "- <p style=\"color:purple;\">A growing patient base or data collection expansion.</p>\n",
    "- <p style=\"color:purple;\">Possible healthcare demand increase due to events like the COVID-19 pandemic (especially in 2020).</p>\n",
    "<p style=\"color:purple;\">The 2024 drop is not necessarily meaningful and should be interpreted with caution.</p>"
   ]
  },
  {
   "cell_type": "markdown",
   "id": "0e839168",
   "metadata": {},
   "source": [
    "<b style=\"color:blue;\">Monthly Admission Trend</b>"
   ]
  },
  {
   "cell_type": "code",
   "execution_count": 39,
   "id": "50cc00d2",
   "metadata": {},
   "outputs": [
    {
     "data": {
      "text/plain": [
       "Admission Month\n",
       "1     4655\n",
       "2     4210\n",
       "3     4622\n",
       "4     4478\n",
       "5     4555\n",
       "6     4650\n",
       "7     4765\n",
       "8     4785\n",
       "9     4508\n",
       "10    4613\n",
       "11    4508\n",
       "12    4617\n",
       "Name: count, dtype: int64"
      ]
     },
     "execution_count": 39,
     "metadata": {},
     "output_type": "execute_result"
    }
   ],
   "source": [
    "monthly_admissions = df[\"Admission Month\"].value_counts().sort_index()\n",
    "monthly_admissions"
   ]
  },
  {
   "cell_type": "code",
   "execution_count": 45,
   "id": "68019d25",
   "metadata": {},
   "outputs": [
    {
     "data": {
      "image/png": "[encoded data removed]",
      "text/plain": [
       "<Figure size 1200x600 with 1 Axes>"
      ]
     },
     "metadata": {},
     "output_type": "display_data"
    }
   ],
   "source": [
    "plt.figure(figsize=(12, 6))\n",
    "sns.barplot(x=monthly_admissions.index, \n",
    "            y=monthly_admissions.values, \n",
    "            palette=\"gist_rainbow\")\n",
    "\n",
    "plt.title(\"Monthly Admission Trends\")\n",
    "plt.xlabel(\"Month\")\n",
    "plt.ylabel(\"Number of Admissions\")\n",
    "\n",
    "for index, value in enumerate(monthly_admissions.values):\n",
    "    plt.text(index, value + 150, str(value), ha=\"center\")\n",
    "\n",
    "plt.xticks(ticks=range(12), labels=[\"Jan\", \"Feb\", \"Mar\", \"Apr\", \"May\", \"Jun\",\n",
    "                                    \"Jul\", \"Aug\", \"Sep\", \"Oct\", \"Nov\", \"Dec\"])\n",
    "\n",
    "plt.show()"
   ]
  },
  {
   "cell_type": "markdown",
   "id": "e855427f",
   "metadata": {},
   "source": [
    "- <p style=\"color:purple;\">Hospital admissions are \n",
    "    <b style=\"color:green; \n",
    "              background-color:yellow;\">fairly consistent throughout the year</b>, indicating a steady inflow of patients.</p>\n",
    "- <p style=\"color:purple;\">\n",
    "    <b style=\"color:green; background-color:yellow;\">August (4785)</b> and \n",
    "    <b style=\"color:green; background-color:yellow;\">July (4765)</b> saw the highest number of admissions, possibly reflecting seasonal factors or mid-year peaks in medical consultations.</p>\n",
    "- <p style=\"color:purple;\">\n",
    "    <b style=\"color:green; \n",
    "              background-color:yellow;\">February (4210) had the lowest admissions</b>, which may be attributed to its shorter duration.</p>\n",
    "- <p style=\"color:purple;\">Overall, there’s \n",
    "    <b style=\"color:green; background-color:yellow;\">no sharp seasonal variation</b>, but a slight upward trend in the middle months is noticeable.</p>"
   ]
  },
  {
   "cell_type": "markdown",
   "id": "fe6069d9",
   "metadata": {},
   "source": [
    "<b style=\"color:blue;\">Calculate Patient Length of Stay</b>\n",
    "\n",
    "<p style=\"color:purple;\">We’ll calculate the Length of Stay for each patient using the difference between their discharge and admission dates. </p>"
   ]
  },
  {
   "cell_type": "code",
   "execution_count": 48,
   "id": "7d19382a",
   "metadata": {},
   "outputs": [
    {
     "data": {
      "text/plain": [
       "count    54966.00\n",
       "mean        15.50\n",
       "std          8.66\n",
       "min          1.00\n",
       "25%          8.00\n",
       "50%         15.00\n",
       "75%         23.00\n",
       "max         30.00\n",
       "Name: Length of Stay, dtype: float64"
      ]
     },
     "execution_count": 48,
     "metadata": {},
     "output_type": "execute_result"
    }
   ],
   "source": [
    "df[\"Length of Stay\"] = (df[\"Discharge Date\"] - df[\"Date of Admission\"]).dt.days\n",
    "df[\"Length of Stay\"].describe().round(2)"
   ]
  },
  {
   "cell_type": "markdown",
   "id": "1e0448db",
   "metadata": {},
   "source": [
    "- <p style=\"color:purple;\">Average stay: About 15.5 days</p>\n",
    "- <p style=\"color:purple;\">Median: 15 days, which means the data is fairly symmetrical.</p>\n",
    "- <p style=\"color:purple;\">Minimum stay: 1 day</p>\n",
    "- <p style=\"color:purple;\">Maximum stay: 30 days, no outrageous outliers, suggesting possible policy-based capping or data simulation bounds.</p>\n",
    "- <p style=\"color:purple;\">Interquartile Range (IQR): From 8 to 23 days, so 50% of patients stay within this window.</p>\n",
    "\n",
    "<p style=\"color:purple;\"> This indicates a moderate variation in patient hospital stays, typical in datasets covering a range of medical conditions, from short treatments to longer recoveries.</p>"
   ]
  },
  {
   "cell_type": "code",
   "execution_count": 53,
   "id": "7f323d21",
   "metadata": {},
   "outputs": [
    {
     "data": {
      "image/png": "[encoded data removed]",
      "text/plain": [
       "<Figure size 1500x500 with 2 Axes>"
      ]
     },
     "metadata": {},
     "output_type": "display_data"
    }
   ],
   "source": [
    "plt.figure(figsize=(15, 5))\n",
    "\n",
    "# Histogram\n",
    "plt.subplot(1, 2, 1)\n",
    "sns.histplot(df[\"Length of Stay\"], bins=30, kde=True, color=\"royalblue\")\n",
    "plt.title(\"Distribution of Length of Stay\")\n",
    "plt.xlabel(\"Length of Stay (Days)\")\n",
    "plt.ylabel(\"Number of Patients\")\n",
    "\n",
    "# Boxplot\n",
    "plt.subplot(1, 2, 2)\n",
    "sns.boxplot(x=df[\"Length of Stay\"], color=\"g\")\n",
    "plt.title(\"Boxplot of Length of Stay\")\n",
    "plt.xlabel(\"Length of Stay (Days)\")\n",
    "\n",
    "plt.show()"
   ]
  },
  {
   "cell_type": "markdown",
   "id": "f8f9494e",
   "metadata": {},
   "source": [
    "- <p style=\"color:purple;\">\n",
    "    <b>Uniform Distribution:</b> The length of stay is evenly distributed between 1 and 30 days.</p>\n",
    "- <p style=\"color:purple;\">\n",
    "    <b>No Skewness or Outliers:</b> The data does not show any skewness or extreme outliers.</p>\n",
    "- <p style=\"color:purple;\">\n",
    "    <b>Likely Synthetic:</b> Such a pattern is uncommon in real hospital data, where most patients have shorter stays and only a few stay longer.</p>\n",
    "\n",
    "<p style=\"color:purple;\">The plots show that the length of stay in our dataset is uniformly distributed across the 1–30 day range, with no unusual peaks or outliers. This suggests the data may be synthetic or intentionally balanced.</p>"
   ]
  },
  {
   "cell_type": "markdown",
   "id": "1fd50f3e",
   "metadata": {},
   "source": [
    "<h2 style=\"color:green;\">Patient Segmentation by Combining Features</h2>"
   ]
  },
  {
   "cell_type": "markdown",
   "id": "78b63e17",
   "metadata": {},
   "source": [
    "<b style=\"color:blue;\">Billing Amount by Medical Condition and Admission Type</b>"
   ]
  },
  {
   "cell_type": "code",
   "execution_count": 56,
   "id": "d735587d",
   "metadata": {},
   "outputs": [
    {
     "data": {
      "text/html": [
       "<div>\n",
       "<style scoped>\n",
       "    .dataframe tbody tr th:only-of-type {\n",
       "        vertical-align: middle;\n",
       "    }\n",
       "\n",
       "    .dataframe tbody tr th {\n",
       "        vertical-align: top;\n",
       "    }\n",
       "\n",
       "    .dataframe thead th {\n",
       "        text-align: right;\n",
       "    }\n",
       "</style>\n",
       "<table border=\"1\" class=\"dataframe\">\n",
       "  <thead>\n",
       "    <tr style=\"text-align: right;\">\n",
       "      <th>Admission Type</th>\n",
       "      <th>Elective</th>\n",
       "      <th>Emergency</th>\n",
       "      <th>Urgent</th>\n",
       "    </tr>\n",
       "    <tr>\n",
       "      <th>Medical Condition</th>\n",
       "      <th></th>\n",
       "      <th></th>\n",
       "      <th></th>\n",
       "    </tr>\n",
       "  </thead>\n",
       "  <tbody>\n",
       "    <tr>\n",
       "      <th>Arthritis</th>\n",
       "      <td>25479.594393</td>\n",
       "      <td>25497.105304</td>\n",
       "      <td>25558.383172</td>\n",
       "    </tr>\n",
       "    <tr>\n",
       "      <th>Asthma</th>\n",
       "      <td>25253.907726</td>\n",
       "      <td>25893.700863</td>\n",
       "      <td>25761.368012</td>\n",
       "    </tr>\n",
       "    <tr>\n",
       "      <th>Cancer</th>\n",
       "      <td>25671.842547</td>\n",
       "      <td>24867.223481</td>\n",
       "      <td>24900.213989</td>\n",
       "    </tr>\n",
       "    <tr>\n",
       "      <th>Diabetes</th>\n",
       "      <td>26032.124823</td>\n",
       "      <td>25471.610224</td>\n",
       "      <td>25484.651029</td>\n",
       "    </tr>\n",
       "    <tr>\n",
       "      <th>Hypertension</th>\n",
       "      <td>25555.088796</td>\n",
       "      <td>25471.370343</td>\n",
       "      <td>25479.248761</td>\n",
       "    </tr>\n",
       "    <tr>\n",
       "      <th>Obesity</th>\n",
       "      <td>25687.732617</td>\n",
       "      <td>25820.553568</td>\n",
       "      <td>25903.815134</td>\n",
       "    </tr>\n",
       "  </tbody>\n",
       "</table>\n",
       "</div>"
      ],
      "text/plain": [
       "Admission Type         Elective     Emergency        Urgent\n",
       "Medical Condition                                          \n",
       "Arthritis          25479.594393  25497.105304  25558.383172\n",
       "Asthma             25253.907726  25893.700863  25761.368012\n",
       "Cancer             25671.842547  24867.223481  24900.213989\n",
       "Diabetes           26032.124823  25471.610224  25484.651029\n",
       "Hypertension       25555.088796  25471.370343  25479.248761\n",
       "Obesity            25687.732617  25820.553568  25903.815134"
      ]
     },
     "execution_count": 56,
     "metadata": {},
     "output_type": "execute_result"
    }
   ],
   "source": [
    "grouped_billing = df.groupby([\"Medical Condition\", \n",
    "                              \"Admission Type\"])[\"Billing Amount\"].mean().unstack()\n",
    "grouped_billing"
   ]
  },
  {
   "cell_type": "code",
   "execution_count": 58,
   "id": "9214fc8e",
   "metadata": {},
   "outputs": [
    {
     "data": {
      "image/png": "[encoded data removed]",
      "text/plain": [
       "<Figure size 1200x400 with 2 Axes>"
      ]
     },
     "metadata": {},
     "output_type": "display_data"
    }
   ],
   "source": [
    "plt.figure(figsize=(12, 4))\n",
    "sns.heatmap(grouped_billing, annot=True, fmt=\".2f\", cmap=\"Greens\")\n",
    "\n",
    "plt.title(\"Average Billing Amount by Medical Condition and Admission Type\")\n",
    "plt.xlabel(\"Admission Type\")\n",
    "plt.ylabel(\"Medical Condition\")\n",
    "\n",
    "plt.show()"
   ]
  },
  {
   "cell_type": "markdown",
   "id": "dc53dd00",
   "metadata": {},
   "source": [
    "<p style=\"color:purple;\">There are no strong or actionable insights from this heatmap. The average billing amounts are very similar across all medical conditions and admission types, with no clear trends or outliers.</p>"
   ]
  },
  {
   "cell_type": "markdown",
   "id": "32dcd2bf",
   "metadata": {},
   "source": [
    "<h2 style=\"color:green;\">ML Algorithms</h2>"
   ]
  },
  {
   "cell_type": "markdown",
   "id": "42f5dd44",
   "metadata": {},
   "source": [
    "<b style=\"color:red;\">While the dataset lacked meaningful real-world insights from a data analysis perspective, its synthetic nature made it ideal for experimenting with classification/regression models. So, let's try to perform some ML operations and see if we get any results this time.</b>"
   ]
  },
  {
   "cell_type": "markdown",
   "id": "0bd71a43",
   "metadata": {},
   "source": [
    "### Prepare the Data"
   ]
  },
  {
   "cell_type": "markdown",
   "id": "208f361b",
   "metadata": {},
   "source": [
    "<b style=\"color:blue;\">Import required libraries</b>"
   ]
  },
  {
   "cell_type": "code",
   "execution_count": 59,
   "id": "1cf436f2",
   "metadata": {},
   "outputs": [],
   "source": [
    "from sklearn.model_selection import train_test_split\n",
    "from sklearn.preprocessing import LabelEncoder"
   ]
  },
  {
   "cell_type": "markdown",
   "id": "474b6fe3",
   "metadata": {},
   "source": [
    "<b style=\"color:blue;\">Select Features and Target</b>"
   ]
  },
  {
   "cell_type": "code",
   "execution_count": 60,
   "id": "38946034",
   "metadata": {},
   "outputs": [],
   "source": [
    "df_ml = df.copy()"
   ]
  },
  {
   "cell_type": "markdown",
   "id": "d2f2e6ae",
   "metadata": {},
   "source": [
    "<b style=\"color:blue;\">Drop columns that aren't useful for prediction</b>"
   ]
  },
  {
   "cell_type": "code",
   "execution_count": 61,
   "id": "0f0098bf",
   "metadata": {},
   "outputs": [],
   "source": [
    "df_ml.drop(columns=[\"Name\", \"Doctor\", \"Hospital\", \"Insurance Provider\", \"Room Number\", \n",
    "                    \"Date of Admission\", \"Discharge Date\", \"Test Results\"], inplace=True)"
   ]
  },
  {
   "cell_type": "markdown",
   "id": "0ce93576",
   "metadata": {},
   "source": [
    "<b style=\"color:blue;\">Encode categorical variables</b>"
   ]
  },
  {
   "cell_type": "code",
   "execution_count": 62,
   "id": "47b0a18f",
   "metadata": {},
   "outputs": [],
   "source": [
    "LE = LabelEncoder()\n",
    "\n",
    "for column in df_ml.select_dtypes(include=[\"object\"]).columns:\n",
    "    df_ml[column] = LE.fit_transform(df_ml[column])"
   ]
  },
  {
   "cell_type": "markdown",
   "id": "ba378be6",
   "metadata": {},
   "source": [
    "<b style=\"color:blue;\">Split into Features and Target</b>"
   ]
  },
  {
   "cell_type": "code",
   "execution_count": 63,
   "id": "8b0adbaa",
   "metadata": {},
   "outputs": [],
   "source": [
    "X = df_ml.drop(\"Medical Condition\", axis=1)\n",
    "y = df_ml[\"Medical Condition\"]"
   ]
  },
  {
   "cell_type": "markdown",
   "id": "81872fa0",
   "metadata": {},
   "source": [
    "<b style=\"color:blue;\">Train-Test Split</b>"
   ]
  },
  {
   "cell_type": "code",
   "execution_count": 64,
   "id": "02e96e26",
   "metadata": {},
   "outputs": [],
   "source": [
    "X_train, X_test, y_train, y_test = train_test_split(X, y, test_size=0.2, random_state=42)"
   ]
  },
  {
   "cell_type": "markdown",
   "id": "158d41c1",
   "metadata": {},
   "source": [
    "### Train a Random Forest Classifier"
   ]
  },
  {
   "cell_type": "code",
   "execution_count": 65,
   "id": "d1ff9adb",
   "metadata": {},
   "outputs": [],
   "source": [
    "from sklearn.ensemble import RandomForestClassifier\n",
    "from sklearn.metrics import classification_report, confusion_matrix, accuracy_score"
   ]
  },
  {
   "cell_type": "markdown",
   "id": "23df2044",
   "metadata": {},
   "source": [
    "<b style=\"color:blue;\">Initialize the model</b>"
   ]
  },
  {
   "cell_type": "code",
   "execution_count": 66,
   "id": "91ee3b35",
   "metadata": {},
   "outputs": [],
   "source": [
    "rf_model = RandomForestClassifier(random_state=42)"
   ]
  },
  {
   "cell_type": "markdown",
   "id": "f74d9904",
   "metadata": {},
   "source": [
    "<b style=\"color:blue;\">Fit the model</b>"
   ]
  },
  {
   "cell_type": "code",
   "execution_count": 67,
   "id": "a9f1027b",
   "metadata": {},
   "outputs": [
    {
     "data": {
      "text/html": [
       "<style>#sk-container-id-1 {\n",
       "  /* Definition of color scheme common for light and dark mode */\n",
       "  --sklearn-color-text: #000;\n",
       "  --sklearn-color-text-muted: #666;\n",
       "  --sklearn-color-line: gray;\n",
       "  /* Definition of color scheme for unfitted estimators */\n",
       "  --sklearn-color-unfitted-level-0: #fff5e6;\n",
       "  --sklearn-color-unfitted-level-1: #f6e4d2;\n",
       "  --sklearn-color-unfitted-level-2: #ffe0b3;\n",
       "  --sklearn-color-unfitted-level-3: chocolate;\n",
       "  /* Definition of color scheme for fitted estimators */\n",
       "  --sklearn-color-fitted-level-0: #f0f8ff;\n",
       "  --sklearn-color-fitted-level-1: #d4ebff;\n",
       "  --sklearn-color-fitted-level-2: #b3dbfd;\n",
       "  --sklearn-color-fitted-level-3: cornflowerblue;\n",
       "\n",
       "  /* Specific color for light theme */\n",
       "  --sklearn-color-text-on-default-background: var(--sg-text-color, var(--theme-code-foreground, var(--jp-content-font-color1, black)));\n",
       "  --sklearn-color-background: var(--sg-background-color, var(--theme-background, var(--jp-layout-color0, white)));\n",
       "  --sklearn-color-border-box: var(--sg-text-color, var(--theme-code-foreground, var(--jp-content-font-color1, black)));\n",
       "  --sklearn-color-icon: #696969;\n",
       "\n",
       "  @media (prefers-color-scheme: dark) {\n",
       "    /* Redefinition of color scheme for dark theme */\n",
       "    --sklearn-color-text-on-default-background: var(--sg-text-color, var(--theme-code-foreground, var(--jp-content-font-color1, white)));\n",
       "    --sklearn-color-background: var(--sg-background-color, var(--theme-background, var(--jp-layout-color0, #111)));\n",
       "    --sklearn-color-border-box: var(--sg-text-color, var(--theme-code-foreground, var(--jp-content-font-color1, white)));\n",
       "    --sklearn-color-icon: #878787;\n",
       "  }\n",
       "}\n",
       "\n",
       "#sk-container-id-1 {\n",
       "  color: var(--sklearn-color-text);\n",
       "}\n",
       "\n",
       "#sk-container-id-1 pre {\n",
       "  padding: 0;\n",
       "}\n",
       "\n",
       "#sk-container-id-1 input.sk-hidden--visually {\n",
       "  border: 0;\n",
       "  clip: rect(1px 1px 1px 1px);\n",
       "  clip: rect(1px, 1px, 1px, 1px);\n",
       "  height: 1px;\n",
       "  margin: -1px;\n",
       "  overflow: hidden;\n",
       "  padding: 0;\n",
       "  position: absolute;\n",
       "  width: 1px;\n",
       "}\n",
       "\n",
       "#sk-container-id-1 div.sk-dashed-wrapped {\n",
       "  border: 1px dashed var(--sklearn-color-line);\n",
       "  margin: 0 0.4em 0.5em 0.4em;\n",
       "  box-sizing: border-box;\n",
       "  padding-bottom: 0.4em;\n",
       "  background-color: var(--sklearn-color-background);\n",
       "}\n",
       "\n",
       "#sk-container-id-1 div.sk-container {\n",
       "  /* jupyter's `normalize.less` sets `[hidden] { display: none; }`\n",
       "     but bootstrap.min.css set `[hidden] { display: none !important; }`\n",
       "     so we also need the `!important` here to be able to override the\n",
       "     default hidden behavior on the sphinx rendered scikit-learn.org.\n",
       "     See: https://github.com/scikit-learn/scikit-learn/issues/21755 */\n",
       "  display: inline-block !important;\n",
       "  position: relative;\n",
       "}\n",
       "\n",
       "#sk-container-id-1 div.sk-text-repr-fallback {\n",
       "  display: none;\n",
       "}\n",
       "\n",
       "div.sk-parallel-item,\n",
       "div.sk-serial,\n",
       "div.sk-item {\n",
       "  /* draw centered vertical line to link estimators */\n",
       "  background-image: linear-gradient(var(--sklearn-color-text-on-default-background), var(--sklearn-color-text-on-default-background));\n",
       "  background-size: 2px 100%;\n",
       "  background-repeat: no-repeat;\n",
       "  background-position: center center;\n",
       "}\n",
       "\n",
       "/* Parallel-specific style estimator block */\n",
       "\n",
       "#sk-container-id-1 div.sk-parallel-item::after {\n",
       "  content: \"\";\n",
       "  width: 100%;\n",
       "  border-bottom: 2px solid var(--sklearn-color-text-on-default-background);\n",
       "  flex-grow: 1;\n",
       "}\n",
       "\n",
       "#sk-container-id-1 div.sk-parallel {\n",
       "  display: flex;\n",
       "  align-items: stretch;\n",
       "  justify-content: center;\n",
       "  background-color: var(--sklearn-color-background);\n",
       "  position: relative;\n",
       "}\n",
       "\n",
       "#sk-container-id-1 div.sk-parallel-item {\n",
       "  display: flex;\n",
       "  flex-direction: column;\n",
       "}\n",
       "\n",
       "#sk-container-id-1 div.sk-parallel-item:first-child::after {\n",
       "  align-self: flex-end;\n",
       "  width: 50%;\n",
       "}\n",
       "\n",
       "#sk-container-id-1 div.sk-parallel-item:last-child::after {\n",
       "  align-self: flex-start;\n",
       "  width: 50%;\n",
       "}\n",
       "\n",
       "#sk-container-id-1 div.sk-parallel-item:only-child::after {\n",
       "  width: 0;\n",
       "}\n",
       "\n",
       "/* Serial-specific style estimator block */\n",
       "\n",
       "#sk-container-id-1 div.sk-serial {\n",
       "  display: flex;\n",
       "  flex-direction: column;\n",
       "  align-items: center;\n",
       "  background-color: var(--sklearn-color-background);\n",
       "  padding-right: 1em;\n",
       "  padding-left: 1em;\n",
       "}\n",
       "\n",
       "\n",
       "/* Toggleable style: style used for estimator/Pipeline/ColumnTransformer box that is\n",
       "clickable and can be expanded/collapsed.\n",
       "- Pipeline and ColumnTransformer use this feature and define the default style\n",
       "- Estimators will overwrite some part of the style using the `sk-estimator` class\n",
       "*/\n",
       "\n",
       "/* Pipeline and ColumnTransformer style (default) */\n",
       "\n",
       "#sk-container-id-1 div.sk-toggleable {\n",
       "  /* Default theme specific background. It is overwritten whether we have a\n",
       "  specific estimator or a Pipeline/ColumnTransformer */\n",
       "  background-color: var(--sklearn-color-background);\n",
       "}\n",
       "\n",
       "/* Toggleable label */\n",
       "#sk-container-id-1 label.sk-toggleable__label {\n",
       "  cursor: pointer;\n",
       "  display: flex;\n",
       "  width: 100%;\n",
       "  margin-bottom: 0;\n",
       "  padding: 0.5em;\n",
       "  box-sizing: border-box;\n",
       "  text-align: center;\n",
       "  align-items: start;\n",
       "  justify-content: space-between;\n",
       "  gap: 0.5em;\n",
       "}\n",
       "\n",
       "#sk-container-id-1 label.sk-toggleable__label .caption {\n",
       "  font-size: 0.6rem;\n",
       "  font-weight: lighter;\n",
       "  color: var(--sklearn-color-text-muted);\n",
       "}\n",
       "\n",
       "#sk-container-id-1 label.sk-toggleable__label-arrow:before {\n",
       "  /* Arrow on the left of the label */\n",
       "  content: \"▸\";\n",
       "  float: left;\n",
       "  margin-right: 0.25em;\n",
       "  color: var(--sklearn-color-icon);\n",
       "}\n",
       "\n",
       "#sk-container-id-1 label.sk-toggleable__label-arrow:hover:before {\n",
       "  color: var(--sklearn-color-text);\n",
       "}\n",
       "\n",
       "/* Toggleable content - dropdown */\n",
       "\n",
       "#sk-container-id-1 div.sk-toggleable__content {\n",
       "  max-height: 0;\n",
       "  max-width: 0;\n",
       "  overflow: hidden;\n",
       "  text-align: left;\n",
       "  /* unfitted */\n",
       "  background-color: var(--sklearn-color-unfitted-level-0);\n",
       "}\n",
       "\n",
       "#sk-container-id-1 div.sk-toggleable__content.fitted {\n",
       "  /* fitted */\n",
       "  background-color: var(--sklearn-color-fitted-level-0);\n",
       "}\n",
       "\n",
       "#sk-container-id-1 div.sk-toggleable__content pre {\n",
       "  margin: 0.2em;\n",
       "  border-radius: 0.25em;\n",
       "  color: var(--sklearn-color-text);\n",
       "  /* unfitted */\n",
       "  background-color: var(--sklearn-color-unfitted-level-0);\n",
       "}\n",
       "\n",
       "#sk-container-id-1 div.sk-toggleable__content.fitted pre {\n",
       "  /* unfitted */\n",
       "  background-color: var(--sklearn-color-fitted-level-0);\n",
       "}\n",
       "\n",
       "#sk-container-id-1 input.sk-toggleable__control:checked~div.sk-toggleable__content {\n",
       "  /* Expand drop-down */\n",
       "  max-height: 200px;\n",
       "  max-width: 100%;\n",
       "  overflow: auto;\n",
       "}\n",
       "\n",
       "#sk-container-id-1 input.sk-toggleable__control:checked~label.sk-toggleable__label-arrow:before {\n",
       "  content: \"▾\";\n",
       "}\n",
       "\n",
       "/* Pipeline/ColumnTransformer-specific style */\n",
       "\n",
       "#sk-container-id-1 div.sk-label input.sk-toggleable__control:checked~label.sk-toggleable__label {\n",
       "  color: var(--sklearn-color-text);\n",
       "  background-color: var(--sklearn-color-unfitted-level-2);\n",
       "}\n",
       "\n",
       "#sk-container-id-1 div.sk-label.fitted input.sk-toggleable__control:checked~label.sk-toggleable__label {\n",
       "  background-color: var(--sklearn-color-fitted-level-2);\n",
       "}\n",
       "\n",
       "/* Estimator-specific style */\n",
       "\n",
       "/* Colorize estimator box */\n",
       "#sk-container-id-1 div.sk-estimator input.sk-toggleable__control:checked~label.sk-toggleable__label {\n",
       "  /* unfitted */\n",
       "  background-color: var(--sklearn-color-unfitted-level-2);\n",
       "}\n",
       "\n",
       "#sk-container-id-1 div.sk-estimator.fitted input.sk-toggleable__control:checked~label.sk-toggleable__label {\n",
       "  /* fitted */\n",
       "  background-color: var(--sklearn-color-fitted-level-2);\n",
       "}\n",
       "\n",
       "#sk-container-id-1 div.sk-label label.sk-toggleable__label,\n",
       "#sk-container-id-1 div.sk-label label {\n",
       "  /* The background is the default theme color */\n",
       "  color: var(--sklearn-color-text-on-default-background);\n",
       "}\n",
       "\n",
       "/* On hover, darken the color of the background */\n",
       "#sk-container-id-1 div.sk-label:hover label.sk-toggleable__label {\n",
       "  color: var(--sklearn-color-text);\n",
       "  background-color: var(--sklearn-color-unfitted-level-2);\n",
       "}\n",
       "\n",
       "/* Label box, darken color on hover, fitted */\n",
       "#sk-container-id-1 div.sk-label.fitted:hover label.sk-toggleable__label.fitted {\n",
       "  color: var(--sklearn-color-text);\n",
       "  background-color: var(--sklearn-color-fitted-level-2);\n",
       "}\n",
       "\n",
       "/* Estimator label */\n",
       "\n",
       "#sk-container-id-1 div.sk-label label {\n",
       "  font-family: monospace;\n",
       "  font-weight: bold;\n",
       "  display: inline-block;\n",
       "  line-height: 1.2em;\n",
       "}\n",
       "\n",
       "#sk-container-id-1 div.sk-label-container {\n",
       "  text-align: center;\n",
       "}\n",
       "\n",
       "/* Estimator-specific */\n",
       "#sk-container-id-1 div.sk-estimator {\n",
       "  font-family: monospace;\n",
       "  border: 1px dotted var(--sklearn-color-border-box);\n",
       "  border-radius: 0.25em;\n",
       "  box-sizing: border-box;\n",
       "  margin-bottom: 0.5em;\n",
       "  /* unfitted */\n",
       "  background-color: var(--sklearn-color-unfitted-level-0);\n",
       "}\n",
       "\n",
       "#sk-container-id-1 div.sk-estimator.fitted {\n",
       "  /* fitted */\n",
       "  background-color: var(--sklearn-color-fitted-level-0);\n",
       "}\n",
       "\n",
       "/* on hover */\n",
       "#sk-container-id-1 div.sk-estimator:hover {\n",
       "  /* unfitted */\n",
       "  background-color: var(--sklearn-color-unfitted-level-2);\n",
       "}\n",
       "\n",
       "#sk-container-id-1 div.sk-estimator.fitted:hover {\n",
       "  /* fitted */\n",
       "  background-color: var(--sklearn-color-fitted-level-2);\n",
       "}\n",
       "\n",
       "/* Specification for estimator info (e.g. \"i\" and \"?\") */\n",
       "\n",
       "/* Common style for \"i\" and \"?\" */\n",
       "\n",
       ".sk-estimator-doc-link,\n",
       "a:link.sk-estimator-doc-link,\n",
       "a:visited.sk-estimator-doc-link {\n",
       "  float: right;\n",
       "  font-size: smaller;\n",
       "  line-height: 1em;\n",
       "  font-family: monospace;\n",
       "  background-color: var(--sklearn-color-background);\n",
       "  border-radius: 1em;\n",
       "  height: 1em;\n",
       "  width: 1em;\n",
       "  text-decoration: none !important;\n",
       "  margin-left: 0.5em;\n",
       "  text-align: center;\n",
       "  /* unfitted */\n",
       "  border: var(--sklearn-color-unfitted-level-1) 1pt solid;\n",
       "  color: var(--sklearn-color-unfitted-level-1);\n",
       "}\n",
       "\n",
       ".sk-estimator-doc-link.fitted,\n",
       "a:link.sk-estimator-doc-link.fitted,\n",
       "a:visited.sk-estimator-doc-link.fitted {\n",
       "  /* fitted */\n",
       "  border: var(--sklearn-color-fitted-level-1) 1pt solid;\n",
       "  color: var(--sklearn-color-fitted-level-1);\n",
       "}\n",
       "\n",
       "/* On hover */\n",
       "div.sk-estimator:hover .sk-estimator-doc-link:hover,\n",
       ".sk-estimator-doc-link:hover,\n",
       "div.sk-label-container:hover .sk-estimator-doc-link:hover,\n",
       ".sk-estimator-doc-link:hover {\n",
       "  /* unfitted */\n",
       "  background-color: var(--sklearn-color-unfitted-level-3);\n",
       "  color: var(--sklearn-color-background);\n",
       "  text-decoration: none;\n",
       "}\n",
       "\n",
       "div.sk-estimator.fitted:hover .sk-estimator-doc-link.fitted:hover,\n",
       ".sk-estimator-doc-link.fitted:hover,\n",
       "div.sk-label-container:hover .sk-estimator-doc-link.fitted:hover,\n",
       ".sk-estimator-doc-link.fitted:hover {\n",
       "  /* fitted */\n",
       "  background-color: var(--sklearn-color-fitted-level-3);\n",
       "  color: var(--sklearn-color-background);\n",
       "  text-decoration: none;\n",
       "}\n",
       "\n",
       "/* Span, style for the box shown on hovering the info icon */\n",
       ".sk-estimator-doc-link span {\n",
       "  display: none;\n",
       "  z-index: 9999;\n",
       "  position: relative;\n",
       "  font-weight: normal;\n",
       "  right: .2ex;\n",
       "  padding: .5ex;\n",
       "  margin: .5ex;\n",
       "  width: min-content;\n",
       "  min-width: 20ex;\n",
       "  max-width: 50ex;\n",
       "  color: var(--sklearn-color-text);\n",
       "  box-shadow: 2pt 2pt 4pt #999;\n",
       "  /* unfitted */\n",
       "  background: var(--sklearn-color-unfitted-level-0);\n",
       "  border: .5pt solid var(--sklearn-color-unfitted-level-3);\n",
       "}\n",
       "\n",
       ".sk-estimator-doc-link.fitted span {\n",
       "  /* fitted */\n",
       "  background: var(--sklearn-color-fitted-level-0);\n",
       "  border: var(--sklearn-color-fitted-level-3);\n",
       "}\n",
       "\n",
       ".sk-estimator-doc-link:hover span {\n",
       "  display: block;\n",
       "}\n",
       "\n",
       "/* \"?\"-specific style due to the `<a>` HTML tag */\n",
       "\n",
       "#sk-container-id-1 a.estimator_doc_link {\n",
       "  float: right;\n",
       "  font-size: 1rem;\n",
       "  line-height: 1em;\n",
       "  font-family: monospace;\n",
       "  background-color: var(--sklearn-color-background);\n",
       "  border-radius: 1rem;\n",
       "  height: 1rem;\n",
       "  width: 1rem;\n",
       "  text-decoration: none;\n",
       "  /* unfitted */\n",
       "  color: var(--sklearn-color-unfitted-level-1);\n",
       "  border: var(--sklearn-color-unfitted-level-1) 1pt solid;\n",
       "}\n",
       "\n",
       "#sk-container-id-1 a.estimator_doc_link.fitted {\n",
       "  /* fitted */\n",
       "  border: var(--sklearn-color-fitted-level-1) 1pt solid;\n",
       "  color: var(--sklearn-color-fitted-level-1);\n",
       "}\n",
       "\n",
       "/* On hover */\n",
       "#sk-container-id-1 a.estimator_doc_link:hover {\n",
       "  /* unfitted */\n",
       "  background-color: var(--sklearn-color-unfitted-level-3);\n",
       "  color: var(--sklearn-color-background);\n",
       "  text-decoration: none;\n",
       "}\n",
       "\n",
       "#sk-container-id-1 a.estimator_doc_link.fitted:hover {\n",
       "  /* fitted */\n",
       "  background-color: var(--sklearn-color-fitted-level-3);\n",
       "}\n",
       "</style><div id=\"sk-container-id-1\" class=\"sk-top-container\"><div class=\"sk-text-repr-fallback\"><pre>RandomForestClassifier(random_state=42)</pre><b>In a Jupyter environment, please rerun this cell to show the HTML representation or trust the notebook. <br />On GitHub, the HTML representation is unable to render, please try loading this page with nbviewer.org.</b></div><div class=\"sk-container\" hidden><div class=\"sk-item\"><div class=\"sk-estimator fitted sk-toggleable\"><input class=\"sk-toggleable__control sk-hidden--visually\" id=\"sk-estimator-id-1\" type=\"checkbox\" checked><label for=\"sk-estimator-id-1\" class=\"sk-toggleable__label fitted sk-toggleable__label-arrow\"><div><div>RandomForestClassifier</div></div><div><a class=\"sk-estimator-doc-link fitted\" rel=\"noreferrer\" target=\"_blank\" href=\"https://scikit-learn.org/1.6/modules/generated/sklearn.ensemble.RandomForestClassifier.html\">?<span>Documentation for RandomForestClassifier</span></a><span class=\"sk-estimator-doc-link fitted\">i<span>Fitted</span></span></div></label><div class=\"sk-toggleable__content fitted\"><pre>RandomForestClassifier(random_state=42)</pre></div> </div></div></div></div>"
      ],
      "text/plain": [
       "RandomForestClassifier(random_state=42)"
      ]
     },
     "execution_count": 67,
     "metadata": {},
     "output_type": "execute_result"
    }
   ],
   "source": [
    "rf_model.fit(X_train, y_train)"
   ]
  },
  {
   "cell_type": "markdown",
   "id": "f7937106",
   "metadata": {},
   "source": [
    "<b style=\"color:blue;\">Predict on test data</b>"
   ]
  },
  {
   "cell_type": "code",
   "execution_count": 68,
   "id": "6734735d",
   "metadata": {},
   "outputs": [],
   "source": [
    "y_pred = rf_model.predict(X_test)"
   ]
  },
  {
   "cell_type": "markdown",
   "id": "e47281f3",
   "metadata": {},
   "source": [
    "<b style=\"color:blue;\">Evaluate the model</b>"
   ]
  },
  {
   "cell_type": "code",
   "execution_count": 69,
   "id": "770e3397",
   "metadata": {},
   "outputs": [
    {
     "name": "stdout",
     "output_type": "stream",
     "text": [
      "Accuracy: 0.2877023831180644\n"
     ]
    }
   ],
   "source": [
    "print(\"Accuracy:\", accuracy_score(y_test, y_pred))"
   ]
  },
  {
   "cell_type": "code",
   "execution_count": 70,
   "id": "3db4ce6b",
   "metadata": {},
   "outputs": [
    {
     "name": "stdout",
     "output_type": "stream",
     "text": [
      "\n",
      "Classification Report:\n",
      "               precision    recall  f1-score   support\n",
      "\n",
      "           0       0.27      0.28      0.28      1867\n",
      "           1       0.29      0.29      0.29      1823\n",
      "           2       0.29      0.29      0.29      1830\n",
      "           3       0.29      0.28      0.29      1886\n",
      "           4       0.29      0.29      0.29      1757\n",
      "           5       0.29      0.28      0.29      1831\n",
      "\n",
      "    accuracy                           0.29     10994\n",
      "   macro avg       0.29      0.29      0.29     10994\n",
      "weighted avg       0.29      0.29      0.29     10994\n",
      "\n"
     ]
    }
   ],
   "source": [
    "print(\"\\nClassification Report:\\n\", classification_report(y_test, y_pred))"
   ]
  },
  {
   "cell_type": "code",
   "execution_count": 71,
   "id": "2a174622",
   "metadata": {},
   "outputs": [
    {
     "name": "stdout",
     "output_type": "stream",
     "text": [
      "\n",
      "Confusion Matrix:\n",
      " [[528 273 257 273 261 275]\n",
      " [295 537 285 244 227 235]\n",
      " [281 251 538 276 246 238]\n",
      " [312 273 274 533 244 250]\n",
      " [271 278 222 245 516 225]\n",
      " [271 265 266 240 278 511]]\n"
     ]
    }
   ],
   "source": [
    "print(\"\\nConfusion Matrix:\\n\", confusion_matrix(y_test, y_pred))"
   ]
  },
  {
   "cell_type": "markdown",
   "id": "4919c002",
   "metadata": {},
   "source": [
    "<h2 style=\"color:green;\">Final Conclusion</h2>\n",
    "\n",
    "<p style=\"color:purple;\">This project aimed to explore and analyze a healthcare dataset using various data analysis techniques. We followed a complete, structured workflow — beginning with data cleaning, exploring distributions, and uncovering potential insights through visualizations.</p>\n",
    "\n",
    "<p style=\"color:purple;\">Despite our efforts, we observed that the dataset lacked real-world complexity and appeared synthetic. Features such as gender, blood type, and medical conditions were uniformly distributed, with no clear trends or anomalies. Visualizations mostly showed flat or balanced patterns, and even advanced analyses (like billing trends, admission types, and length of stay) did not reveal meaningful insights.</p>\n",
    "\n",
    "<p style=\"color:purple;\">In an effort to add more depth, we also experimented with machine learning techniques. However, the results confirmed our earlier suspicions — the synthetic nature of the dataset led to poor predictive performance, with models failing to capture any strong relationships between features and the target variable.</p>\n",
    "\n",
    "<p style=\"color:purple;\">That said, this project served as a valuable learning experience. It allowed us to:</p>\n",
    "\n",
    "- <p style=\"color:purple;\">Practice real-world data analysis workflow using Python libraries like NumPy, Pandas, Matplotlib, and Seaborn.</p>\n",
    "- <p style=\"color:purple;\">Develop and evaluate machine learning models using Scikit-learn.</p>\n",
    "- <p style=\"color:purple;\">Strengthen our documentation and analytical storytelling approach.</p>\n",
    "\n",
    "<p style=\"color:purple;\">While this dataset didn’t yield strong business insights, the end-to-end pipeline built during this project is a great foundation and can be used as a reference for future, more meaningful projects.</p>"
   ]
  },
  {
   "cell_type": "code",
   "execution_count": null,
   "id": "bffe64f7",
   "metadata": {},
   "outputs": [],
   "source": []
  }
 ],
 "metadata": {
  "kernelspec": {
   "display_name": "Python 3 (ipykernel)",
   "language": "python",
   "name": "python3"
  },
  "language_info": {
   "codemirror_mode": {
    "name": "ipython",
    "version": 3
   },
   "file_extension": ".py",
   "mimetype": "text/x-python",
   "name": "python",
   "nbconvert_exporter": "python",
   "pygments_lexer": "ipython3",
   "version": "3.11.5"
  }
 },
 "nbformat": 4,
 "nbformat_minor": 5
}
